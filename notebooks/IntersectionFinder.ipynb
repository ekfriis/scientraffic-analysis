{
 "metadata": {
  "name": "Intersection Finder"
 },
 "nbformat": 3,
 "nbformat_minor": 0,
 "worksheets": [
  {
   "cells": [
    {
     "cell_type": "code",
     "collapsed": false,
     "input": [
      "import pandas as pd"
     ],
     "language": "python",
     "metadata": {},
     "outputs": [],
     "prompt_number": 1
    },
    {
     "cell_type": "code",
     "collapsed": false,
     "input": [
      "store = pd.HDFStore(\"doot.hdf5\")"
     ],
     "language": "python",
     "metadata": {},
     "outputs": [],
     "prompt_number": 2
    },
    {
     "cell_type": "code",
     "collapsed": false,
     "input": [
      "steps = store['routes/steps']"
     ],
     "language": "python",
     "metadata": {},
     "outputs": [],
     "prompt_number": 3
    },
    {
     "cell_type": "code",
     "collapsed": false,
     "input": [
      "by_start_end = steps.groupby(['start_node','end_node'])"
     ],
     "language": "python",
     "metadata": {},
     "outputs": [],
     "prompt_number": 4
    },
    {
     "cell_type": "code",
     "collapsed": false,
     "input": [
      "agg_counts = by_start_end.size()"
     ],
     "language": "python",
     "metadata": {},
     "outputs": [],
     "prompt_number": 5
    },
    {
     "cell_type": "code",
     "collapsed": false,
     "input": [
      "agg_counts.head()"
     ],
     "language": "python",
     "metadata": {},
     "outputs": [
      {
       "output_type": "pyout",
       "prompt_number": 6,
       "text": [
        "start_node  end_node\n",
        "0           2565899       1\n",
        "7           1601342       1\n",
        "8           1601343       4\n",
        "11          3408715     152\n",
        "12          15560       153"
       ]
      }
     ],
     "prompt_number": 6
    },
    {
     "cell_type": "code",
     "collapsed": false,
     "input": [
      "type(agg_counts)"
     ],
     "language": "python",
     "metadata": {},
     "outputs": [
      {
       "output_type": "pyout",
       "prompt_number": 7,
       "text": [
        "pandas.core.series.Series"
       ]
      }
     ],
     "prompt_number": 7
    },
    {
     "cell_type": "code",
     "collapsed": false,
     "input": [
      "agg_counts.order(ascending=False)"
     ],
     "language": "python",
     "metadata": {},
     "outputs": [
      {
       "output_type": "pyout",
       "prompt_number": 8,
       "text": [
        "start_node  end_node\n",
        "3713103     3713044     1116\n",
        "3713044     2947811     1116\n",
        "3713034     3713103     1116\n",
        "2947876     285         1116\n",
        "2947811     286         1116\n",
        "2947810     3713034     1116\n",
        "2880074     2880075     1116\n",
        "23366       2880074     1116\n",
        "286         23366       1116\n",
        "285         2947810     1116\n",
        "3249074     3069568     1115\n",
        "3069568     2948070     1115\n",
        "2948469     3249074     1115\n",
        "3248423     2948119     1113\n",
        "3248422     2948394     1113\n",
        "...\n",
        "190         4100909     1\n",
        "176         3712027     1\n",
        "173         3231268     1\n",
        "155         4098356     1\n",
        "151         3121342     1\n",
        "121         3108545     1\n",
        "114         3547458     1\n",
        "94          2933031     1\n",
        "92          3917071     1\n",
        "90          3917069     1\n",
        "45          2857494     1\n",
        "16          4049708     1\n",
        "            4049706     1\n",
        "7           1601342     1\n",
        "0           2565899     1\n",
        "Length: 733483"
       ]
      }
     ],
     "prompt_number": 8
    },
    {
     "cell_type": "code",
     "collapsed": false,
     "input": [
      "len(agg_counts)"
     ],
     "language": "python",
     "metadata": {},
     "outputs": [
      {
       "output_type": "pyout",
       "prompt_number": 9,
       "text": [
        "733483"
       ]
      }
     ],
     "prompt_number": 9
    },
    {
     "cell_type": "code",
     "collapsed": false,
     "input": [
      "top_10percent = agg_counts.order(ascending=False)[:len(agg_counts) / 10]"
     ],
     "language": "python",
     "metadata": {},
     "outputs": [],
     "prompt_number": 31
    },
    {
     "cell_type": "code",
     "collapsed": false,
     "input": [
      "top_10percent.hist()"
     ],
     "language": "python",
     "metadata": {},
     "outputs": [
      {
       "output_type": "pyout",
       "prompt_number": 32,
       "text": [
        "<matplotlib.axes.AxesSubplot at 0x7c14790>"
       ]
      },
      {
       "output_type": "display_data",
       "png": "[encoded data removed]"
      }
     ],
     "prompt_number": 32
    },
    {
     "cell_type": "code",
     "collapsed": false,
     "input": [
      "top_10percent.index[0]"
     ],
     "language": "python",
     "metadata": {},
     "outputs": [
      {
       "output_type": "pyout",
       "prompt_number": 35,
       "text": [
        "(3713103, 3713044)"
       ]
      }
     ],
     "prompt_number": 35
    },
    {
     "cell_type": "code",
     "collapsed": false,
     "input": [
      "iter(top_10percent.index).next()"
     ],
     "language": "python",
     "metadata": {},
     "outputs": [
      {
       "output_type": "pyout",
       "prompt_number": 37,
       "text": [
        "(3713103, 3713044)"
       ]
      }
     ],
     "prompt_number": 37
    },
    {
     "cell_type": "code",
     "collapsed": false,
     "input": [
      "type(iter(top_10percent).next())"
     ],
     "language": "python",
     "metadata": {},
     "outputs": [
      {
       "output_type": "pyout",
       "prompt_number": 43,
       "text": [
        "numpy.int64"
       ]
      }
     ],
     "prompt_number": 43
    },
    {
     "cell_type": "code",
     "collapsed": false,
     "input": [
      "from graphroutes import steplist_2_igraph"
     ],
     "language": "python",
     "metadata": {},
     "outputs": [],
     "prompt_number": 3
    },
    {
     "cell_type": "code",
     "collapsed": false,
     "input": [
      "g = steplist_2_igraph(store, take_fraction=1.0)"
     ],
     "language": "python",
     "metadata": {},
     "outputs": [],
     "prompt_number": 22
    },
    {
     "cell_type": "code",
     "collapsed": false,
     "input": [
      "import numpy as np"
     ],
     "language": "python",
     "metadata": {},
     "outputs": [],
     "prompt_number": 8
    },
    {
     "cell_type": "code",
     "collapsed": false,
     "input": [
      "degree = np.array(g.degree(), dtype=int)"
     ],
     "language": "python",
     "metadata": {},
     "outputs": [],
     "prompt_number": 23
    },
    {
     "cell_type": "code",
     "collapsed": false,
     "input": [
      "len(degree[degree >= 3])"
     ],
     "language": "python",
     "metadata": {},
     "outputs": [
      {
       "output_type": "pyout",
       "prompt_number": 27,
       "text": [
        "23347"
       ]
      }
     ],
     "prompt_number": 27
    },
    {
     "cell_type": "code",
     "collapsed": false,
     "input": [
      "hist(degree, 10)"
     ],
     "language": "python",
     "metadata": {},
     "outputs": [
      {
       "output_type": "pyout",
       "prompt_number": 28,
       "text": [
        "(array([ 14229,      0, 690425,      0,  21582,      0,   1688,      0,\n",
        "           73,      4]),\n",
        " array([ 1. ,  1.5,  2. ,  2.5,  3. ,  3.5,  4. ,  4.5,  5. ,  5.5,  6. ]),\n",
        " <a list of 10 Patch objects>)"
       ]
      },
      {
       "output_type": "display_data",
       "png": "[encoded data removed]"
      }
     ],
     "prompt_number": 28
    },
    {
     "cell_type": "code",
     "collapsed": false,
     "input": [],
     "language": "python",
     "metadata": {},
     "outputs": [],
     "prompt_number": 56
    },
    {
     "cell_type": "code",
     "collapsed": false,
     "input": [
      "intersection_vertices = g.vs.select(_degree_gt=2)"
     ],
     "language": "python",
     "metadata": {},
     "outputs": [],
     "prompt_number": 124
    },
    {
     "cell_type": "code",
     "collapsed": false,
     "input": [
      "vtx = intersection_vertices[10]"
     ],
     "language": "python",
     "metadata": {},
     "outputs": [],
     "prompt_number": 125
    },
    {
     "cell_type": "code",
     "collapsed": false,
     "input": [
      "vtx.neighbors()"
     ],
     "language": "python",
     "metadata": {},
     "outputs": [
      {
       "output_type": "pyout",
       "prompt_number": 126,
       "text": [
        "[igraph.Vertex(<igraph.Graph object at 0x85e0050>,662537,{}),\n",
        " igraph.Vertex(<igraph.Graph object at 0x85e0050>,662538,{}),\n",
        " igraph.Vertex(<igraph.Graph object at 0x85e0050>,668604,{})]"
       ]
      }
     ],
     "prompt_number": 126
    },
    {
     "cell_type": "code",
     "collapsed": false,
     "input": [
      "vtx.index"
     ],
     "language": "python",
     "metadata": {},
     "outputs": [
      {
       "output_type": "pyout",
       "prompt_number": 146,
       "text": [
        "62"
       ]
      }
     ],
     "prompt_number": 146
    },
    {
     "cell_type": "code",
     "collapsed": false,
     "input": [
      "g.is_directed()"
     ],
     "language": "python",
     "metadata": {},
     "outputs": [
      {
       "output_type": "pyout",
       "prompt_number": 128,
       "text": [
        "False"
       ]
      }
     ],
     "prompt_number": 128
    },
    {
     "cell_type": "code",
     "collapsed": false,
     "input": [
      "list(g.es.select(_within=[x.index for x in [vtx] + vtx.neighbors()]))"
     ],
     "language": "python",
     "metadata": {},
     "outputs": [
      {
       "output_type": "pyout",
       "prompt_number": 156,
       "text": [
        "[igraph.Edge(<igraph.Graph object at 0x85e0050>, 26082, {'weight': 83}),\n",
        " igraph.Edge(<igraph.Graph object at 0x85e0050>, 733477, {'weight': 1}),\n",
        " igraph.Edge(<igraph.Graph object at 0x85e0050>, 26424, {'weight': 82})]"
       ]
      }
     ],
     "prompt_number": 156
    },
    {
     "cell_type": "code",
     "collapsed": false,
     "input": [
      "list(g.es.select(_from=668604)) + list(g.es.select(_to=668604))"
     ],
     "language": "python",
     "metadata": {},
     "outputs": [
      {
       "output_type": "pyout",
       "prompt_number": 151,
       "text": [
        "[igraph.Edge(<igraph.Graph object at 0x85e0050>, 26040, {'weight': 83}),\n",
        " igraph.Edge(<igraph.Graph object at 0x85e0050>, 26082, {'weight': 83})]"
       ]
      }
     ],
     "prompt_number": 151
    },
    {
     "cell_type": "code",
     "collapsed": false,
     "input": [],
     "language": "python",
     "metadata": {},
     "outputs": [
      {
       "output_type": "pyout",
       "prompt_number": 155,
       "text": [
        "[62, 662537, 662538, 668604]"
       ]
      }
     ],
     "prompt_number": 155
    },
    {
     "cell_type": "code",
     "collapsed": false,
     "input": [
      "vtx.outdegree()"
     ],
     "language": "python",
     "metadata": {},
     "outputs": [
      {
       "output_type": "pyout",
       "prompt_number": 160,
       "text": [
        "3"
       ]
      }
     ],
     "prompt_number": 160
    },
    {
     "cell_type": "code",
     "collapsed": false,
     "input": [
      "vtx.diversity()"
     ],
     "language": "python",
     "metadata": {},
     "outputs": [
      {
       "ename": "InternalError",
       "evalue": "Error at structural_properties.c:7195: Edge weights must be given, Invalid value",
       "output_type": "pyerr",
       "traceback": [
        "\u001b[1;31m---------------------------------------------------------------------------\u001b[0m\n\u001b[1;31mInternalError\u001b[0m                             Traceback (most recent call last)",
        "\u001b[1;32m<ipython-input-161-cc025d96ac00>\u001b[0m in \u001b[0;36m<module>\u001b[1;34m()\u001b[0m\n\u001b[1;32m----> 1\u001b[1;33m \u001b[0mvtx\u001b[0m\u001b[1;33m.\u001b[0m\u001b[0mdiversity\u001b[0m\u001b[1;33m(\u001b[0m\u001b[1;33m)\u001b[0m\u001b[1;33m\u001b[0m\u001b[0m\n\u001b[0m",
        "\u001b[1;31mInternalError\u001b[0m: Error at structural_properties.c:7195: Edge weights must be given, Invalid value"
       ]
      }
     ],
     "prompt_number": 161
    },
    {
     "cell_type": "code",
     "collapsed": false,
     "input": [
      "vtx.index"
     ],
     "language": "python",
     "metadata": {},
     "outputs": [
      {
       "output_type": "pyout",
       "prompt_number": 162,
       "text": [
        "62"
       ]
      }
     ],
     "prompt_number": 162
    },
    {
     "cell_type": "code",
     "collapsed": false,
     "input": [
      "sorted(g.es.select(g.adjacent(62))['weight'])"
     ],
     "language": "python",
     "metadata": {},
     "outputs": [
      {
       "output_type": "pyout",
       "prompt_number": 166,
       "text": [
        "[1, 82, 83]"
       ]
      }
     ],
     "prompt_number": 166
    },
    {
     "cell_type": "code",
     "collapsed": false,
     "input": [
      "def get_adj_weights(x):\n",
      "    return sorted(g.es.select(g.adjacent(x))['weight'], reverse=True)"
     ],
     "language": "python",
     "metadata": {},
     "outputs": [],
     "prompt_number": 223
    },
    {
     "cell_type": "code",
     "collapsed": false,
     "input": [
      "def test_metric(metric):\n",
      "    test_points = [get_adj_weights(x) for x in intersection_vertices[:40]]\n",
      "    for point in sorted(test_points, key=metric, reverse=True):\n",
      "        print \"%s -> %0.2f\" % (repr(point), metric(point))"
     ],
     "language": "python",
     "metadata": {},
     "outputs": [],
     "prompt_number": 246
    },
    {
     "cell_type": "code",
     "collapsed": false,
     "input": [
      "def metric_a(xs):\n",
      "  return sum(sqrt(x) for x in xs)"
     ],
     "language": "python",
     "metadata": {},
     "outputs": [],
     "prompt_number": 235
    },
    {
     "cell_type": "code",
     "collapsed": false,
     "input": [
      "test_metric(metric_a)"
     ],
     "language": "python",
     "metadata": {},
     "outputs": [
      {
       "output_type": "stream",
       "stream": "stdout",
       "text": [
        "[344, 342, 2] -> 38.45\n",
        "[329, 327, 2] -> 37.64\n",
        "[203, 191, 12] -> 31.53\n",
        "[194, 190, 4] -> 29.71\n",
        "[195, 191, 3] -> 29.52\n",
        "[181, 177, 4] -> 28.76\n",
        "[176, 173, 3] -> 28.15\n",
        "[175, 174, 1] -> 27.42\n",
        "[153, 144, 9] -> 27.37\n",
        "[109, 64, 45] -> 25.15\n",
        "[113, 109, 4] -> 23.07\n",
        "[114, 112, 2] -> 22.67\n",
        "[86, 83, 3] -> 20.12\n",
        "[85, 83, 2] -> 19.74\n",
        "[83, 82, 1] -> 19.17\n",
        "[8, 5, 3, 1, 1] -> 8.80\n",
        "[5, 4, 1] -> 5.24\n",
        "[2, 1, 1] -> 3.41\n",
        "[2, 1, 1] -> 3.41\n",
        "[2, 1, 1] -> 3.41\n"
       ]
      }
     ],
     "prompt_number": 239
    },
    {
     "cell_type": "code",
     "collapsed": false,
     "input": [
      "def metric_b(xs):\n",
      "    output = 1\n",
      "    for x in xs:\n",
      "        output *= sqrt(x)\n",
      "    return output"
     ],
     "language": "python",
     "metadata": {},
     "outputs": [],
     "prompt_number": 177
    },
    {
     "cell_type": "code",
     "collapsed": false,
     "input": [
      "test_metric(metric_b)"
     ],
     "language": "python",
     "metadata": {},
     "outputs": [
      {
       "output_type": "stream",
       "stream": "stdout",
       "text": [
        "[203, 191, 12] -> 682.11\n",
        "[109, 64, 45] -> 560.29\n",
        "[344, 342, 2] -> 485.07\n",
        "[329, 327, 2] -> 463.86\n",
        "[153, 144, 9] -> 445.30\n",
        "[194, 190, 4] -> 383.98\n",
        "[181, 177, 4] -> 357.98\n",
        "[195, 191, 3] -> 334.27\n",
        "[176, 173, 3] -> 302.23\n",
        "[113, 109, 4] -> 221.96\n",
        "[175, 174, 1] -> 174.50\n",
        "[114, 112, 2] -> 159.80\n",
        "[86, 83, 3] -> 146.34\n",
        "[85, 83, 2] -> 118.79\n",
        "[83, 82, 1] -> 82.50\n",
        "[8, 5, 3, 1, 1] -> 10.95\n",
        "[5, 4, 1] -> 4.47\n",
        "[2, 1, 1] -> 1.41\n",
        "[2, 1, 1] -> 1.41\n",
        "[2, 1, 1] -> 1.41\n"
       ]
      }
     ],
     "prompt_number": 240
    },
    {
     "cell_type": "code",
     "collapsed": false,
     "input": [
      "def metric_c(xs):\n",
      "    the_max = max(xs)\n",
      "    output = 1\n",
      "    for x in sorted(xs, reverse=True):\n",
      "        output *= x * 1./the_max\n",
      "    return the_max*output"
     ],
     "language": "python",
     "metadata": {},
     "outputs": [],
     "prompt_number": 188
    },
    {
     "cell_type": "code",
     "collapsed": false,
     "input": [
      "def metric_d(xs):\n",
      "    the_max = max(xs)\n",
      "    output = 1\n",
      "    for i, x in enumerate(sorted(xs, reverse=True)):\n",
      "        output *= (i + 1) * sqrt(x) * sqrt(1./the_max)\n",
      "    return sqrt(the_max)*output"
     ],
     "language": "python",
     "metadata": {},
     "outputs": [],
     "prompt_number": 215
    },
    {
     "cell_type": "code",
     "collapsed": false,
     "input": [
      "def metric_d(xs):\n",
      "    output = 0\n",
      "    for i, x in enumerate(sorted(xs, reverse=True)[1:]):\n",
      "        output += (2 * i + 1) * math.log(x+1)\n",
      "    return output"
     ],
     "language": "python",
     "metadata": {},
     "outputs": [],
     "prompt_number": 254
    },
    {
     "cell_type": "code",
     "collapsed": false,
     "input": [
      "test_metric(metric_d)"
     ],
     "language": "python",
     "metadata": {},
     "outputs": [
      {
       "output_type": "stream",
       "stream": "stdout",
       "text": [
        "[112, 67, 45] -> 15.71\n",
        "[109, 64, 45] -> 15.66\n",
        "[585, 568, 17] -> 15.01\n",
        "[8, 5, 3, 1, 1] -> 14.27\n",
        "[203, 191, 12] -> 12.95\n",
        "[153, 144, 9] -> 11.88\n",
        "[852, 848, 4] -> 11.57\n",
        "[133, 127, 6] -> 10.69\n",
        "[595, 592, 3] -> 10.54\n",
        "[1042, 1040, 2] -> 10.24\n",
        "[194, 190, 4] -> 10.08\n",
        "[181, 177, 4] -> 10.01\n",
        "[113, 109, 4] -> 9.53\n",
        "[195, 191, 3] -> 9.42\n",
        "[176, 173, 3] -> 9.32\n",
        "[344, 342, 2] -> 9.13\n",
        "[329, 327, 2] -> 9.09\n",
        "[1103, 1102, 1] -> 9.09\n",
        "[848, 847, 1] -> 8.82\n",
        "[86, 83, 3] -> 8.59\n",
        "[114, 112, 2] -> 8.02\n",
        "[85, 83, 2] -> 7.73\n",
        "[175, 174, 1] -> 7.24\n",
        "[175, 174, 1] -> 7.24\n",
        "[36, 34, 2] -> 6.85\n",
        "[4, 2, 1, 1] -> 6.64\n",
        "[83, 82, 1] -> 6.50\n",
        "[1, 1, 1, 1] -> 6.24\n",
        "[5, 3, 2] -> 4.68\n",
        "[4, 2, 2] -> 4.39\n",
        "[5, 4, 1] -> 3.69\n",
        "[4, 3, 1] -> 3.47\n",
        "[4, 3, 1] -> 3.47\n",
        "[4, 3, 1] -> 3.47\n",
        "[3, 2, 1] -> 3.18\n",
        "[3, 2, 1] -> 3.18\n",
        "[3, 2, 1] -> 3.18\n",
        "[2, 1, 1] -> 2.77\n",
        "[2, 1, 1] -> 2.77\n",
        "[2, 1, 1] -> 2.77\n"
       ]
      }
     ],
     "prompt_number": 255
    },
    {
     "cell_type": "code",
     "collapsed": false,
     "input": [
      "metric_c([1, 1102, 1103])"
     ],
     "language": "python",
     "metadata": {},
     "outputs": [
      {
       "output_type": "pyout",
       "prompt_number": 189,
       "text": [
        "0.99909338168631"
       ]
      }
     ],
     "prompt_number": 189
    },
    {
     "cell_type": "code",
     "collapsed": false,
     "input": [
      "metric_c([30, 38, 68])"
     ],
     "language": "python",
     "metadata": {},
     "outputs": [
      {
       "output_type": "pyout",
       "prompt_number": 190,
       "text": [
        "16.764705882352942"
       ]
      }
     ],
     "prompt_number": 190
    },
    {
     "cell_type": "code",
     "collapsed": false,
     "input": [
      "metric_d([1, 1102, 1103])"
     ],
     "language": "python",
     "metadata": {},
     "outputs": [
      {
       "output_type": "pyout",
       "prompt_number": 216,
       "text": [
        "5.9972795283117444"
       ]
      }
     ],
     "prompt_number": 216
    },
    {
     "cell_type": "code",
     "collapsed": false,
     "input": [
      "metric_d([30, 38, 68])"
     ],
     "language": "python",
     "metadata": {},
     "outputs": [
      {
       "output_type": "pyout",
       "prompt_number": 217,
       "text": [
        "24.566835607475081"
       ]
      }
     ],
     "prompt_number": 217
    },
    {
     "cell_type": "code",
     "collapsed": false,
     "input": [
      "metric_d([15, 940, 955])"
     ],
     "language": "python",
     "metadata": {},
     "outputs": [
      {
       "output_type": "pyout",
       "prompt_number": 218,
       "text": [
        "23.054681186417"
       ]
      }
     ],
     "prompt_number": 218
    },
    {
     "cell_type": "code",
     "collapsed": false,
     "input": [
      "metric_d([1, 1, 3, 5, 8])"
     ],
     "language": "python",
     "metadata": {},
     "outputs": [
      {
       "output_type": "pyout",
       "prompt_number": 219,
       "text": [
        "20.539595906443743"
       ]
      }
     ],
     "prompt_number": 219
    },
    {
     "cell_type": "code",
     "collapsed": false,
     "input": [
      "metric_d([4, 23, 27])"
     ],
     "language": "python",
     "metadata": {},
     "outputs": [
      {
       "output_type": "pyout",
       "prompt_number": 220,
       "text": [
        "11.075498483890765"
       ]
      }
     ],
     "prompt_number": 220
    },
    {
     "cell_type": "code",
     "collapsed": false,
     "input": [],
     "language": "python",
     "metadata": {},
     "outputs": []
    }
   ],
   "metadata": {}
  }
 ]
}